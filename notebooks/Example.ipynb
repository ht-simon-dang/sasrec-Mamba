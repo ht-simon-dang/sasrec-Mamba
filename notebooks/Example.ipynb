{
 "cells": [
  {
   "cell_type": "code",
   "execution_count": 1,
   "metadata": {},
   "outputs": [
    {
     "name": "stdout",
     "output_type": "stream",
     "text": [
      "['/home/hd31/anaconda3/envs/py312/lib/python312.zip', '/home/hd31/anaconda3/envs/py312/lib/python3.12', '/home/hd31/anaconda3/envs/py312/lib/python3.12/lib-dynload', '', '/home/hd31/anaconda3/envs/py312/lib/python3.12/site-packages', '__editable__.recommenders-1.2.1.finder.__path_hook__', '../']\n"
     ]
    }
   ],
   "source": [
    "import os\n",
    "os.environ['CUDA_VISIBLE_DEVICES'] = '0'\n",
    "\n",
    "import sys\n",
    "sys.path.append('../')\n",
    "print(sys.path)"
   ]
  },
  {
   "cell_type": "code",
   "execution_count": 2,
   "metadata": {},
   "outputs": [
    {
     "name": "stdout",
     "output_type": "stream",
     "text": [
      "Successfully imported package\n"
     ]
    }
   ],
   "source": [
    "import numpy as np\n",
    "import pandas as pd\n",
    "import pytorch_lightning as pl\n",
    "import torch\n",
    "from hydra import compose, initialize\n",
    "from omegaconf import OmegaConf\n",
    "from pytorch_lightning.callbacks import EarlyStopping, ModelCheckpoint, ModelSummary\n",
    "from torch.utils.data import DataLoader\n",
    "from mamba_ssm import Mamba\n",
    "from src.datasets import (CausalLMDataset, CausalLMPredictionDataset, MaskedLMDataset,\n",
    "                          MaskedLMPredictionDataset, PaddingCollateFn)\n",
    "from src.metrics import compute_metrics\n",
    "from src.models import RNN, BERT4Rec, SASRec, MAMBA4Rec\n",
    "from src.modules import SeqRec, SeqRecWithSampling\n",
    "from src.postprocess import preds2recs\n",
    "from src.preprocess import add_time_idx\n",
    "print(\"Successfully imported package\")"
   ]
  },
  {
   "cell_type": "markdown",
   "metadata": {},
   "source": [
    "## Config"
   ]
  },
  {
   "cell_type": "code",
   "execution_count": 6,
   "metadata": {},
   "outputs": [
    {
     "name": "stdout",
     "output_type": "stream",
     "text": [
      "{'cuda_visible_devices': 0, 'data_path': '../data/ml-1m.txt', 'dataset': {'max_length': 50, 'full_negative_sampling': False}, 'dataloader': {'batch_size': 128, 'test_batch_size': 256, 'num_workers': 8, 'validation_size': 10000}, 'model': 'MAMBA4Rec', 'model_params': {'maxlen': 200, 'hidden_units': 64, 'num_blocks': 2, 'dropout_rate': 0.1, 'initializer_range': 0.02, 'mamba_config': {'d_model': 32, 'd_state': 8, 'd_conv': 2, 'expand': 2}}, 'seqrec_module': {'lr': 0.001, 'predict_top_k': 10, 'filter_seen': True}, 'trainer_params': {'max_epochs': 100}, 'patience': 10, 'sampled_metrics': False, 'top_k_metrics': [10, 100], 'hidden_size': 64, 'num_layers': 1, 'dropout_prob': 0.2, 'loss_type': 'CE', 'd_state': 32, 'd_conv': 4, 'expand': 2, 'USER_ID_FIELD': 'user_id', 'ITEM_ID_FIELD': 'item_id', 'load_col': {'inter': ['user_id', 'item_id', 'timestamp']}, 'user_inter_num_interval': '[5,inf)', 'item_inter_num_interval': '[5,inf)', 'epochs': 300, 'train_batch_size': 2048, 'learner': 'adam', 'learning_rate': 0.001, 'eval_step': 1, 'stopping_step': 10, 'train_neg_sample_args': None, 'metrics': ['Hit', 'NDCG', 'MRR'], 'valid_metric': 'NDCG@10', 'eval_batch_size': 4096, 'weight_decay': 0.0, 'topk': [10]}\n"
     ]
    }
   ],
   "source": [
    "# # for SASRec\n",
    "# with initialize(version_base=None, config_path=\"../src/configs/\"):\n",
    "#     config = compose(config_name=\"SASRec\")\n",
    "\n",
    "# # for BERT4Rec\n",
    "# with initialize(version_base=None, config_path=\"../src/configs/\"):\n",
    "#     config = compose(config_name=\"BERT4Rec\")\n",
    "\n",
    "# # for GRU4Rec\n",
    "# with initialize(version_base=None, config_path=\"../src/configs/\"):\n",
    "#     config = compose(config_name=\"RNN\")\n",
    "\n",
    "# for MAMBA4Rec\n",
    "with initialize(version_base=None, config_path=\"../src/configs/\"):\n",
    "    config = compose(config_name=\"MAMBA4Rec\")\n",
    "\n",
    "print(config)"
   ]
  },
  {
   "cell_type": "code",
   "execution_count": 7,
   "metadata": {},
   "outputs": [],
   "source": [
    "OmegaConf.set_struct(config, False)\n",
    "\n",
    "config.dataset.max_length = 200\n",
    "\n",
    "# # for training with negative sampling\n",
    "# config.dataset.num_negatives = 1000\n",
    "\n",
    "# # for original SASRec training with BCE loss and 1 negative example\n",
    "# config.seqrec_module.loss = 'bce'\n",
    "# config.dataset.num_negatives = 1\n",
    "# config.dataset.full_negative_sampling = True"
   ]
  },
  {
   "cell_type": "code",
   "execution_count": 8,
   "metadata": {},
   "outputs": [
    {
     "name": "stdout",
     "output_type": "stream",
     "text": [
      "cuda_visible_devices: 0\n",
      "data_path: ../data/ml-1m.txt\n",
      "dataset:\n",
      "  max_length: 200\n",
      "  full_negative_sampling: false\n",
      "dataloader:\n",
      "  batch_size: 128\n",
      "  test_batch_size: 256\n",
      "  num_workers: 8\n",
      "  validation_size: 10000\n",
      "model: MAMBA4Rec\n",
      "model_params:\n",
      "  maxlen: 200\n",
      "  hidden_units: 64\n",
      "  num_blocks: 2\n",
      "  dropout_rate: 0.1\n",
      "  initializer_range: 0.02\n",
      "  mamba_config:\n",
      "    d_model: 32\n",
      "    d_state: 8\n",
      "    d_conv: 2\n",
      "    expand: 2\n",
      "seqrec_module:\n",
      "  lr: 0.001\n",
      "  predict_top_k: 10\n",
      "  filter_seen: true\n",
      "trainer_params:\n",
      "  max_epochs: 100\n",
      "patience: 10\n",
      "sampled_metrics: false\n",
      "top_k_metrics:\n",
      "- 10\n",
      "- 100\n",
      "hidden_size: 64\n",
      "num_layers: 1\n",
      "dropout_prob: 0.2\n",
      "loss_type: CE\n",
      "d_state: 32\n",
      "d_conv: 4\n",
      "expand: 2\n",
      "USER_ID_FIELD: user_id\n",
      "ITEM_ID_FIELD: item_id\n",
      "load_col:\n",
      "  inter:\n",
      "  - user_id\n",
      "  - item_id\n",
      "  - timestamp\n",
      "user_inter_num_interval: '[5,inf)'\n",
      "item_inter_num_interval: '[5,inf)'\n",
      "epochs: 300\n",
      "train_batch_size: 2048\n",
      "learner: adam\n",
      "learning_rate: 0.001\n",
      "eval_step: 1\n",
      "stopping_step: 10\n",
      "train_neg_sample_args: null\n",
      "metrics:\n",
      "- Hit\n",
      "- NDCG\n",
      "- MRR\n",
      "valid_metric: NDCG@10\n",
      "eval_batch_size: 4096\n",
      "weight_decay: 0.0\n",
      "topk:\n",
      "- 10\n",
      "\n"
     ]
    }
   ],
   "source": [
    "print(OmegaConf.to_yaml(config))"
   ]
  },
  {
   "cell_type": "markdown",
   "metadata": {},
   "source": [
    "## Load data"
   ]
  },
  {
   "cell_type": "code",
   "execution_count": 9,
   "metadata": {},
   "outputs": [
    {
     "name": "stdout",
     "output_type": "stream",
     "text": [
      "(999611, 4)\n"
     ]
    },
    {
     "data": {
      "text/html": [
       "<div>\n",
       "<style scoped>\n",
       "    .dataframe tbody tr th:only-of-type {\n",
       "        vertical-align: middle;\n",
       "    }\n",
       "\n",
       "    .dataframe tbody tr th {\n",
       "        vertical-align: top;\n",
       "    }\n",
       "\n",
       "    .dataframe thead th {\n",
       "        text-align: right;\n",
       "    }\n",
       "</style>\n",
       "<table border=\"1\" class=\"dataframe\">\n",
       "  <thead>\n",
       "    <tr style=\"text-align: right;\">\n",
       "      <th></th>\n",
       "      <th>user_id</th>\n",
       "      <th>item_id</th>\n",
       "      <th>time_idx</th>\n",
       "      <th>time_idx_reversed</th>\n",
       "    </tr>\n",
       "  </thead>\n",
       "  <tbody>\n",
       "    <tr>\n",
       "      <th>0</th>\n",
       "      <td>1</td>\n",
       "      <td>2</td>\n",
       "      <td>0</td>\n",
       "      <td>78</td>\n",
       "    </tr>\n",
       "    <tr>\n",
       "      <th>1</th>\n",
       "      <td>1</td>\n",
       "      <td>3</td>\n",
       "      <td>1</td>\n",
       "      <td>77</td>\n",
       "    </tr>\n",
       "    <tr>\n",
       "      <th>2</th>\n",
       "      <td>1</td>\n",
       "      <td>4</td>\n",
       "      <td>2</td>\n",
       "      <td>76</td>\n",
       "    </tr>\n",
       "    <tr>\n",
       "      <th>3</th>\n",
       "      <td>1</td>\n",
       "      <td>5</td>\n",
       "      <td>3</td>\n",
       "      <td>75</td>\n",
       "    </tr>\n",
       "    <tr>\n",
       "      <th>4</th>\n",
       "      <td>1</td>\n",
       "      <td>6</td>\n",
       "      <td>4</td>\n",
       "      <td>74</td>\n",
       "    </tr>\n",
       "  </tbody>\n",
       "</table>\n",
       "</div>"
      ],
      "text/plain": [
       "   user_id  item_id  time_idx  time_idx_reversed\n",
       "0        1        2         0                 78\n",
       "1        1        3         1                 77\n",
       "2        1        4         2                 76\n",
       "3        1        5         3                 75\n",
       "4        1        6         4                 74"
      ]
     },
     "execution_count": 9,
     "metadata": {},
     "output_type": "execute_result"
    }
   ],
   "source": [
    "data = pd.read_csv(config.data_path, sep=' ', header=None, names=['user_id', 'item_id'])\n",
    "data = add_time_idx(data, sort=False)\n",
    "\n",
    "# index 1 is used for masking value\n",
    "if config.model == 'MAMBA4Rec':\n",
    "    data.item_id += 1\n",
    "\n",
    "print(data.shape)\n",
    "data.head()"
   ]
  },
  {
   "cell_type": "code",
   "execution_count": 10,
   "metadata": {},
   "outputs": [],
   "source": [
    "train = data[data.time_idx_reversed >= 2]\n",
    "validation = data[data.time_idx_reversed == 1]\n",
    "validation_full = data[data.time_idx_reversed >= 1]\n",
    "test = data[data.time_idx_reversed == 0]"
   ]
  },
  {
   "cell_type": "markdown",
   "metadata": {},
   "source": [
    "## Dataloaders"
   ]
  },
  {
   "cell_type": "code",
   "execution_count": 11,
   "metadata": {},
   "outputs": [],
   "source": [
    "validation_size = config.dataloader.validation_size\n",
    "validation_users = validation_full.user_id.unique()\n",
    "if validation_size and (validation_size < len(validation_users)):\n",
    "    validation_users = np.random.choice(validation_users, size=validation_size, replace=False)\n",
    "\n",
    "if config.model in ['SASRec', 'RNN', 'MAMBA4Rec']:\n",
    "    train_dataset = CausalLMDataset(train, **config['dataset'])\n",
    "    eval_dataset = CausalLMPredictionDataset(\n",
    "        validation_full[validation_full.user_id.isin(validation_users)],\n",
    "        max_length=config.dataset.max_length, validation_mode=True)\n",
    "elif config.model == 'BERT4Rec':\n",
    "    train_dataset = MaskedLMDataset(train, **config['dataset'])\n",
    "    eval_dataset = MaskedLMPredictionDataset(\n",
    "        validation_full[validation_full.user_id.isin(validation_users)],\n",
    "        max_length=config.dataset.max_length, validation_mode=True)\n",
    "\n",
    "train_loader = DataLoader(\n",
    "    train_dataset, shuffle=True,\n",
    "    collate_fn=PaddingCollateFn(),\n",
    "    batch_size=config.dataloader.batch_size,\n",
    "    num_workers=config.dataloader.num_workers)\n",
    "eval_loader = DataLoader(\n",
    "    eval_dataset, shuffle=False,\n",
    "    collate_fn=PaddingCollateFn(),\n",
    "    batch_size=config.dataloader.test_batch_size,\n",
    "    num_workers=config.dataloader.num_workers)"
   ]
  },
  {
   "cell_type": "code",
   "execution_count": 12,
   "metadata": {},
   "outputs": [
    {
     "name": "stdout",
     "output_type": "stream",
     "text": [
      "torch.Size([128, 200])\n"
     ]
    }
   ],
   "source": [
    "batch = next(iter(train_loader))\n",
    "print(batch['input_ids'].shape)"
   ]
  },
  {
   "cell_type": "markdown",
   "metadata": {},
   "source": [
    "## Model"
   ]
  },
  {
   "cell_type": "code",
   "execution_count": 15,
   "metadata": {},
   "outputs": [],
   "source": [
    "item_count = data.item_id.max()\n",
    "\n",
    "from mamba_ssm import Mamba\n",
    "\n",
    "if hasattr(config.dataset, 'num_negatives') and config.dataset.num_negatives:\n",
    "    add_head = False\n",
    "else:\n",
    "    add_head = True\n",
    "\n",
    "if config.model == 'SASRec':\n",
    "    model = SASRec(item_num=item_count, add_head=add_head, **config.model_params)\n",
    "if config.model == 'BERT4Rec':\n",
    "    model = BERT4Rec(vocab_size=item_count + 1, add_head=add_head,\n",
    "                     bert_config=config.model_params)\n",
    "if config.model == 'RNN':\n",
    "    model = RNN(vocab_size=item_count + 1, add_head=add_head,\n",
    "                rnn_config=config.model_params)\n",
    "elif config.model == 'MAMBA4Rec':\n",
    "    model = MAMBA4Rec(vocab_size=item_count + 1, add_head=add_head,\n",
    "                mamba_config=config.model_params.mamba_config)"
   ]
  },
  {
   "cell_type": "code",
   "execution_count": 16,
   "metadata": {},
   "outputs": [
    {
     "ename": "RuntimeError",
     "evalue": "Expected u.is_cuda() to be true, but got false.  (Could this error message be improved?  If so, please report an enhancement request to PyTorch.)\nException raised from selective_scan_fwd at /home/runner/work/mamba/mamba/csrc/selective_scan/selective_scan.cpp:246 (most recent call first):\nframe #0: c10::Error::Error(c10::SourceLocation, std::__cxx11::basic_string<char, std::char_traits<char>, std::allocator<char> >) + 0x98 (0x7f521c0cc788 in /home/hd31/anaconda3/envs/py312/lib/python3.12/site-packages/torch/lib/libc10.so)\nframe #1: c10::detail::torchCheckFail(char const*, char const*, unsigned int, char const*) + 0x6a (0x7f521c075fbc in /home/hd31/anaconda3/envs/py312/lib/python3.12/site-packages/torch/lib/libc10.so)\nframe #2: selective_scan_fwd(at::Tensor const&, at::Tensor const&, at::Tensor const&, at::Tensor const&, at::Tensor const&, std::optional<at::Tensor> const&, std::optional<at::Tensor> const&, std::optional<at::Tensor> const&, bool) + 0x22f (0x7f51044c89ff in /home/hd31/anaconda3/envs/py312/lib/python3.12/site-packages/selective_scan_cuda.cpython-312-x86_64-linux-gnu.so)\nframe #3: <unknown function> + 0x92ed4 (0x7f51044e1ed4 in /home/hd31/anaconda3/envs/py312/lib/python3.12/site-packages/selective_scan_cuda.cpython-312-x86_64-linux-gnu.so)\nframe #4: <unknown function> + 0x8fc95 (0x7f51044dec95 in /home/hd31/anaconda3/envs/py312/lib/python3.12/site-packages/selective_scan_cuda.cpython-312-x86_64-linux-gnu.so)\nframe #5: /home/hd31/anaconda3/envs/py312/bin/python3.12() [0x54d2d4]\nframe #6: _PyObject_MakeTpCall + 0x2fb (0x51e38b in /home/hd31/anaconda3/envs/py312/bin/python3.12)\nframe #7: _PyEval_EvalFrameDefault + 0x6ce (0x528ede in /home/hd31/anaconda3/envs/py312/bin/python3.12)\nframe #8: THPFunction_apply(_object*, _object*) + 0xe30 (0x7f5213e0fe90 in /home/hd31/anaconda3/envs/py312/lib/python3.12/site-packages/torch/lib/libtorch_python.so)\nframe #9: /home/hd31/anaconda3/envs/py312/bin/python3.12() [0x54d2fc]\nframe #10: _PyObject_Call + 0xb5 (0x55e0f5 in /home/hd31/anaconda3/envs/py312/bin/python3.12)\nframe #11: _PyEval_EvalFrameDefault + 0x503a (0x52d84a in /home/hd31/anaconda3/envs/py312/bin/python3.12)\nframe #12: /home/hd31/anaconda3/envs/py312/bin/python3.12() [0x578d57]\nframe #13: _PyEval_EvalFrameDefault + 0x503a (0x52d84a in /home/hd31/anaconda3/envs/py312/bin/python3.12)\nframe #14: /home/hd31/anaconda3/envs/py312/bin/python3.12() [0x578d57]\nframe #15: _PyEval_EvalFrameDefault + 0x503a (0x52d84a in /home/hd31/anaconda3/envs/py312/bin/python3.12)\nframe #16: _PyObject_FastCallDictTstate + 0x1e7 (0x520f07 in /home/hd31/anaconda3/envs/py312/bin/python3.12)\nframe #17: _PyObject_Call_Prepend + 0x66 (0x55b4c6 in /home/hd31/anaconda3/envs/py312/bin/python3.12)\nframe #18: /home/hd31/anaconda3/envs/py312/bin/python3.12() [0x630ff6]\nframe #19: _PyObject_MakeTpCall + 0x2fb (0x51e38b in /home/hd31/anaconda3/envs/py312/bin/python3.12)\nframe #20: _PyEval_EvalFrameDefault + 0x6ce (0x528ede in /home/hd31/anaconda3/envs/py312/bin/python3.12)\nframe #21: /home/hd31/anaconda3/envs/py312/bin/python3.12() [0x578d57]\nframe #22: _PyEval_EvalFrameDefault + 0x503a (0x52d84a in /home/hd31/anaconda3/envs/py312/bin/python3.12)\nframe #23: /home/hd31/anaconda3/envs/py312/bin/python3.12() [0x578d57]\nframe #24: _PyEval_EvalFrameDefault + 0x503a (0x52d84a in /home/hd31/anaconda3/envs/py312/bin/python3.12)\nframe #25: _PyObject_FastCallDictTstate + 0x1e7 (0x520f07 in /home/hd31/anaconda3/envs/py312/bin/python3.12)\nframe #26: _PyObject_Call_Prepend + 0x66 (0x55b4c6 in /home/hd31/anaconda3/envs/py312/bin/python3.12)\nframe #27: /home/hd31/anaconda3/envs/py312/bin/python3.12() [0x630ff6]\nframe #28: _PyObject_MakeTpCall + 0x2fb (0x51e38b in /home/hd31/anaconda3/envs/py312/bin/python3.12)\nframe #29: _PyEval_EvalFrameDefault + 0x6ce (0x528ede in /home/hd31/anaconda3/envs/py312/bin/python3.12)\nframe #30: PyEval_EvalCode + 0xae (0x5e581e in /home/hd31/anaconda3/envs/py312/bin/python3.12)\nframe #31: /home/hd31/anaconda3/envs/py312/bin/python3.12() [0x603679]\nframe #32: _PyEval_EvalFrameDefault + 0x3a89 (0x52c299 in /home/hd31/anaconda3/envs/py312/bin/python3.12)\nframe #33: /home/hd31/anaconda3/envs/py312/bin/python3.12() [0x5fe027]\nframe #34: /home/hd31/anaconda3/envs/py312/bin/python3.12() [0x5ff2a6]\nframe #35: _PyEval_EvalFrameDefault + 0x4698 (0x52cea8 in /home/hd31/anaconda3/envs/py312/bin/python3.12)\nframe #36: /home/hd31/anaconda3/envs/py312/bin/python3.12() [0x5792ad]\nframe #37: /home/hd31/anaconda3/envs/py312/bin/python3.12() [0x578dbd]\nframe #38: _PyObject_Call + 0x122 (0x55e162 in /home/hd31/anaconda3/envs/py312/bin/python3.12)\nframe #39: _PyEval_EvalFrameDefault + 0x503a (0x52d84a in /home/hd31/anaconda3/envs/py312/bin/python3.12)\nframe #40: /home/hd31/anaconda3/envs/py312/bin/python3.12() [0x5fe027]\nframe #41: <unknown function> + 0x841b (0x7f5272e1941b in /home/hd31/anaconda3/envs/py312/lib/python3.12/lib-dynload/_asyncio.cpython-312-x86_64-linux-gnu.so)\nframe #42: <unknown function> + 0x8c27 (0x7f5272e19c27 in /home/hd31/anaconda3/envs/py312/lib/python3.12/lib-dynload/_asyncio.cpython-312-x86_64-linux-gnu.so)\nframe #43: /home/hd31/anaconda3/envs/py312/bin/python3.12() [0x54be6b]\nframe #44: /home/hd31/anaconda3/envs/py312/bin/python3.12() [0x67bfd1]\nframe #45: /home/hd31/anaconda3/envs/py312/bin/python3.12() [0x4dd071]\nframe #46: /home/hd31/anaconda3/envs/py312/bin/python3.12() [0x5418be]\nframe #47: _PyEval_EvalFrameDefault + 0x503a (0x52d84a in /home/hd31/anaconda3/envs/py312/bin/python3.12)\nframe #48: PyEval_EvalCode + 0xae (0x5e581e in /home/hd31/anaconda3/envs/py312/bin/python3.12)\nframe #49: /home/hd31/anaconda3/envs/py312/bin/python3.12() [0x603679]\nframe #50: /home/hd31/anaconda3/envs/py312/bin/python3.12() [0x5418be]\nframe #51: PyObject_Vectorcall + 0x51 (0x5416a1 in /home/hd31/anaconda3/envs/py312/bin/python3.12)\nframe #52: _PyEval_EvalFrameDefault + 0x6ce (0x528ede in /home/hd31/anaconda3/envs/py312/bin/python3.12)\nframe #53: /home/hd31/anaconda3/envs/py312/bin/python3.12() [0x6181af]\nframe #54: Py_RunMain + 0x3d8 (0x617d68 in /home/hd31/anaconda3/envs/py312/bin/python3.12)\nframe #55: Py_BytesMain + 0x39 (0x5d03c9 in /home/hd31/anaconda3/envs/py312/bin/python3.12)\nframe #56: <unknown function> + 0x29d90 (0x7f5273fe7d90 in /lib/x86_64-linux-gnu/libc.so.6)\nframe #57: __libc_start_main + 0x80 (0x7f5273fe7e40 in /lib/x86_64-linux-gnu/libc.so.6)\nframe #58: /home/hd31/anaconda3/envs/py312/bin/python3.12() [0x5d01f9]\n",
     "output_type": "error",
     "traceback": [
      "\u001b[31m---------------------------------------------------------------------------\u001b[39m",
      "\u001b[31mRuntimeError\u001b[39m                              Traceback (most recent call last)",
      "\u001b[36mCell\u001b[39m\u001b[36m \u001b[39m\u001b[32mIn[16]\u001b[39m\u001b[32m, line 1\u001b[39m\n\u001b[32m----> \u001b[39m\u001b[32m1\u001b[39m out = \u001b[43mmodel\u001b[49m\u001b[43m(\u001b[49m\u001b[43mbatch\u001b[49m\u001b[43m[\u001b[49m\u001b[33;43m'\u001b[39;49m\u001b[33;43minput_ids\u001b[39;49m\u001b[33;43m'\u001b[39;49m\u001b[43m]\u001b[49m\u001b[43m,\u001b[49m\u001b[43m \u001b[49m\u001b[43mbatch\u001b[49m\u001b[43m[\u001b[49m\u001b[33;43m'\u001b[39;49m\u001b[33;43mattention_mask\u001b[39;49m\u001b[33;43m'\u001b[39;49m\u001b[43m]\u001b[49m\u001b[43m)\u001b[49m\n\u001b[32m      2\u001b[39m out.shape\n",
      "\u001b[36mFile \u001b[39m\u001b[32m~/anaconda3/envs/py312/lib/python3.12/site-packages/torch/nn/modules/module.py:1739\u001b[39m, in \u001b[36mModule._wrapped_call_impl\u001b[39m\u001b[34m(self, *args, **kwargs)\u001b[39m\n\u001b[32m   1737\u001b[39m     \u001b[38;5;28;01mreturn\u001b[39;00m \u001b[38;5;28mself\u001b[39m._compiled_call_impl(*args, **kwargs)  \u001b[38;5;66;03m# type: ignore[misc]\u001b[39;00m\n\u001b[32m   1738\u001b[39m \u001b[38;5;28;01melse\u001b[39;00m:\n\u001b[32m-> \u001b[39m\u001b[32m1739\u001b[39m     \u001b[38;5;28;01mreturn\u001b[39;00m \u001b[38;5;28;43mself\u001b[39;49m\u001b[43m.\u001b[49m\u001b[43m_call_impl\u001b[49m\u001b[43m(\u001b[49m\u001b[43m*\u001b[49m\u001b[43margs\u001b[49m\u001b[43m,\u001b[49m\u001b[43m \u001b[49m\u001b[43m*\u001b[49m\u001b[43m*\u001b[49m\u001b[43mkwargs\u001b[49m\u001b[43m)\u001b[49m\n",
      "\u001b[36mFile \u001b[39m\u001b[32m~/anaconda3/envs/py312/lib/python3.12/site-packages/torch/nn/modules/module.py:1750\u001b[39m, in \u001b[36mModule._call_impl\u001b[39m\u001b[34m(self, *args, **kwargs)\u001b[39m\n\u001b[32m   1745\u001b[39m \u001b[38;5;66;03m# If we don't have any hooks, we want to skip the rest of the logic in\u001b[39;00m\n\u001b[32m   1746\u001b[39m \u001b[38;5;66;03m# this function, and just call forward.\u001b[39;00m\n\u001b[32m   1747\u001b[39m \u001b[38;5;28;01mif\u001b[39;00m \u001b[38;5;129;01mnot\u001b[39;00m (\u001b[38;5;28mself\u001b[39m._backward_hooks \u001b[38;5;129;01mor\u001b[39;00m \u001b[38;5;28mself\u001b[39m._backward_pre_hooks \u001b[38;5;129;01mor\u001b[39;00m \u001b[38;5;28mself\u001b[39m._forward_hooks \u001b[38;5;129;01mor\u001b[39;00m \u001b[38;5;28mself\u001b[39m._forward_pre_hooks\n\u001b[32m   1748\u001b[39m         \u001b[38;5;129;01mor\u001b[39;00m _global_backward_pre_hooks \u001b[38;5;129;01mor\u001b[39;00m _global_backward_hooks\n\u001b[32m   1749\u001b[39m         \u001b[38;5;129;01mor\u001b[39;00m _global_forward_hooks \u001b[38;5;129;01mor\u001b[39;00m _global_forward_pre_hooks):\n\u001b[32m-> \u001b[39m\u001b[32m1750\u001b[39m     \u001b[38;5;28;01mreturn\u001b[39;00m \u001b[43mforward_call\u001b[49m\u001b[43m(\u001b[49m\u001b[43m*\u001b[49m\u001b[43margs\u001b[49m\u001b[43m,\u001b[49m\u001b[43m \u001b[49m\u001b[43m*\u001b[49m\u001b[43m*\u001b[49m\u001b[43mkwargs\u001b[49m\u001b[43m)\u001b[49m\n\u001b[32m   1752\u001b[39m result = \u001b[38;5;28;01mNone\u001b[39;00m\n\u001b[32m   1753\u001b[39m called_always_called_hooks = \u001b[38;5;28mset\u001b[39m()\n",
      "\u001b[36mFile \u001b[39m\u001b[32m~/Projects/sasrec-Mamba/notebooks/../src/models.py:329\u001b[39m, in \u001b[36mMAMBA4Rec.forward\u001b[39m\u001b[34m(self, input_ids, attention_mask)\u001b[39m\n\u001b[32m    327\u001b[39m \u001b[38;5;28;01mdef\u001b[39;00m\u001b[38;5;250m \u001b[39m\u001b[34mforward\u001b[39m(\u001b[38;5;28mself\u001b[39m, input_ids, attention_mask=\u001b[38;5;28;01mNone\u001b[39;00m):\n\u001b[32m    328\u001b[39m     embeds = \u001b[38;5;28mself\u001b[39m.embed_layer(input_ids)\n\u001b[32m--> \u001b[39m\u001b[32m329\u001b[39m     mamba_outputs = \u001b[38;5;28;43mself\u001b[39;49m\u001b[43m.\u001b[49m\u001b[43mmamba_model\u001b[49m\u001b[43m(\u001b[49m\u001b[43membeds\u001b[49m\u001b[43m)\u001b[49m\n\u001b[32m    330\u001b[39m     outputs = mamba_outputs\n\u001b[32m    332\u001b[39m     \u001b[38;5;28;01mif\u001b[39;00m \u001b[38;5;28mself\u001b[39m.add_head:\n",
      "\u001b[36mFile \u001b[39m\u001b[32m~/anaconda3/envs/py312/lib/python3.12/site-packages/torch/nn/modules/module.py:1739\u001b[39m, in \u001b[36mModule._wrapped_call_impl\u001b[39m\u001b[34m(self, *args, **kwargs)\u001b[39m\n\u001b[32m   1737\u001b[39m     \u001b[38;5;28;01mreturn\u001b[39;00m \u001b[38;5;28mself\u001b[39m._compiled_call_impl(*args, **kwargs)  \u001b[38;5;66;03m# type: ignore[misc]\u001b[39;00m\n\u001b[32m   1738\u001b[39m \u001b[38;5;28;01melse\u001b[39;00m:\n\u001b[32m-> \u001b[39m\u001b[32m1739\u001b[39m     \u001b[38;5;28;01mreturn\u001b[39;00m \u001b[38;5;28;43mself\u001b[39;49m\u001b[43m.\u001b[49m\u001b[43m_call_impl\u001b[49m\u001b[43m(\u001b[49m\u001b[43m*\u001b[49m\u001b[43margs\u001b[49m\u001b[43m,\u001b[49m\u001b[43m \u001b[49m\u001b[43m*\u001b[49m\u001b[43m*\u001b[49m\u001b[43mkwargs\u001b[49m\u001b[43m)\u001b[49m\n",
      "\u001b[36mFile \u001b[39m\u001b[32m~/anaconda3/envs/py312/lib/python3.12/site-packages/torch/nn/modules/module.py:1750\u001b[39m, in \u001b[36mModule._call_impl\u001b[39m\u001b[34m(self, *args, **kwargs)\u001b[39m\n\u001b[32m   1745\u001b[39m \u001b[38;5;66;03m# If we don't have any hooks, we want to skip the rest of the logic in\u001b[39;00m\n\u001b[32m   1746\u001b[39m \u001b[38;5;66;03m# this function, and just call forward.\u001b[39;00m\n\u001b[32m   1747\u001b[39m \u001b[38;5;28;01mif\u001b[39;00m \u001b[38;5;129;01mnot\u001b[39;00m (\u001b[38;5;28mself\u001b[39m._backward_hooks \u001b[38;5;129;01mor\u001b[39;00m \u001b[38;5;28mself\u001b[39m._backward_pre_hooks \u001b[38;5;129;01mor\u001b[39;00m \u001b[38;5;28mself\u001b[39m._forward_hooks \u001b[38;5;129;01mor\u001b[39;00m \u001b[38;5;28mself\u001b[39m._forward_pre_hooks\n\u001b[32m   1748\u001b[39m         \u001b[38;5;129;01mor\u001b[39;00m _global_backward_pre_hooks \u001b[38;5;129;01mor\u001b[39;00m _global_backward_hooks\n\u001b[32m   1749\u001b[39m         \u001b[38;5;129;01mor\u001b[39;00m _global_forward_hooks \u001b[38;5;129;01mor\u001b[39;00m _global_forward_pre_hooks):\n\u001b[32m-> \u001b[39m\u001b[32m1750\u001b[39m     \u001b[38;5;28;01mreturn\u001b[39;00m \u001b[43mforward_call\u001b[49m\u001b[43m(\u001b[49m\u001b[43m*\u001b[49m\u001b[43margs\u001b[49m\u001b[43m,\u001b[49m\u001b[43m \u001b[49m\u001b[43m*\u001b[49m\u001b[43m*\u001b[49m\u001b[43mkwargs\u001b[49m\u001b[43m)\u001b[49m\n\u001b[32m   1752\u001b[39m result = \u001b[38;5;28;01mNone\u001b[39;00m\n\u001b[32m   1753\u001b[39m called_always_called_hooks = \u001b[38;5;28mset\u001b[39m()\n",
      "\u001b[36mFile \u001b[39m\u001b[32m~/anaconda3/envs/py312/lib/python3.12/site-packages/mamba_ssm/modules/mamba_simple.py:189\u001b[39m, in \u001b[36mMamba.forward\u001b[39m\u001b[34m(self, hidden_states, inference_params)\u001b[39m\n\u001b[32m    187\u001b[39m C = rearrange(C, \u001b[33m\"\u001b[39m\u001b[33m(b l) dstate -> b dstate l\u001b[39m\u001b[33m\"\u001b[39m, l=seqlen).contiguous()\n\u001b[32m    188\u001b[39m \u001b[38;5;28;01massert\u001b[39;00m \u001b[38;5;28mself\u001b[39m.activation \u001b[38;5;129;01min\u001b[39;00m [\u001b[33m\"\u001b[39m\u001b[33msilu\u001b[39m\u001b[33m\"\u001b[39m, \u001b[33m\"\u001b[39m\u001b[33mswish\u001b[39m\u001b[33m\"\u001b[39m]\n\u001b[32m--> \u001b[39m\u001b[32m189\u001b[39m y = \u001b[43mselective_scan_fn\u001b[49m\u001b[43m(\u001b[49m\n\u001b[32m    190\u001b[39m \u001b[43m    \u001b[49m\u001b[43mx\u001b[49m\u001b[43m,\u001b[49m\n\u001b[32m    191\u001b[39m \u001b[43m    \u001b[49m\u001b[43mdt\u001b[49m\u001b[43m,\u001b[49m\n\u001b[32m    192\u001b[39m \u001b[43m    \u001b[49m\u001b[43mA\u001b[49m\u001b[43m,\u001b[49m\n\u001b[32m    193\u001b[39m \u001b[43m    \u001b[49m\u001b[43mB\u001b[49m\u001b[43m,\u001b[49m\n\u001b[32m    194\u001b[39m \u001b[43m    \u001b[49m\u001b[43mC\u001b[49m\u001b[43m,\u001b[49m\n\u001b[32m    195\u001b[39m \u001b[43m    \u001b[49m\u001b[38;5;28;43mself\u001b[39;49m\u001b[43m.\u001b[49m\u001b[43mD\u001b[49m\u001b[43m.\u001b[49m\u001b[43mfloat\u001b[49m\u001b[43m(\u001b[49m\u001b[43m)\u001b[49m\u001b[43m,\u001b[49m\n\u001b[32m    196\u001b[39m \u001b[43m    \u001b[49m\u001b[43mz\u001b[49m\u001b[43m=\u001b[49m\u001b[43mz\u001b[49m\u001b[43m,\u001b[49m\n\u001b[32m    197\u001b[39m \u001b[43m    \u001b[49m\u001b[43mdelta_bias\u001b[49m\u001b[43m=\u001b[49m\u001b[38;5;28;43mself\u001b[39;49m\u001b[43m.\u001b[49m\u001b[43mdt_proj\u001b[49m\u001b[43m.\u001b[49m\u001b[43mbias\u001b[49m\u001b[43m.\u001b[49m\u001b[43mfloat\u001b[49m\u001b[43m(\u001b[49m\u001b[43m)\u001b[49m\u001b[43m,\u001b[49m\n\u001b[32m    198\u001b[39m \u001b[43m    \u001b[49m\u001b[43mdelta_softplus\u001b[49m\u001b[43m=\u001b[49m\u001b[38;5;28;43;01mTrue\u001b[39;49;00m\u001b[43m,\u001b[49m\n\u001b[32m    199\u001b[39m \u001b[43m    \u001b[49m\u001b[43mreturn_last_state\u001b[49m\u001b[43m=\u001b[49m\u001b[43mssm_state\u001b[49m\u001b[43m \u001b[49m\u001b[38;5;129;43;01mis\u001b[39;49;00m\u001b[43m \u001b[49m\u001b[38;5;129;43;01mnot\u001b[39;49;00m\u001b[43m \u001b[49m\u001b[38;5;28;43;01mNone\u001b[39;49;00m\u001b[43m,\u001b[49m\n\u001b[32m    200\u001b[39m \u001b[43m\u001b[49m\u001b[43m)\u001b[49m\n\u001b[32m    201\u001b[39m \u001b[38;5;28;01mif\u001b[39;00m ssm_state \u001b[38;5;129;01mis\u001b[39;00m \u001b[38;5;129;01mnot\u001b[39;00m \u001b[38;5;28;01mNone\u001b[39;00m:\n\u001b[32m    202\u001b[39m     y, last_state = y\n",
      "\u001b[36mFile \u001b[39m\u001b[32m~/anaconda3/envs/py312/lib/python3.12/site-packages/mamba_ssm/ops/selective_scan_interface.py:110\u001b[39m, in \u001b[36mselective_scan_fn\u001b[39m\u001b[34m(u, delta, A, B, C, D, z, delta_bias, delta_softplus, return_last_state)\u001b[39m\n\u001b[32m    104\u001b[39m \u001b[38;5;28;01mdef\u001b[39;00m\u001b[38;5;250m \u001b[39m\u001b[34mselective_scan_fn\u001b[39m(u, delta, A, B, C, D=\u001b[38;5;28;01mNone\u001b[39;00m, z=\u001b[38;5;28;01mNone\u001b[39;00m, delta_bias=\u001b[38;5;28;01mNone\u001b[39;00m, delta_softplus=\u001b[38;5;28;01mFalse\u001b[39;00m,\n\u001b[32m    105\u001b[39m                      return_last_state=\u001b[38;5;28;01mFalse\u001b[39;00m):\n\u001b[32m    106\u001b[39m \u001b[38;5;250m    \u001b[39m\u001b[33;03m\"\"\"if return_last_state is True, returns (out, last_state)\u001b[39;00m\n\u001b[32m    107\u001b[39m \u001b[33;03m    last_state has shape (batch, dim, dstate). Note that the gradient of the last state is\u001b[39;00m\n\u001b[32m    108\u001b[39m \u001b[33;03m    not considered in the backward pass.\u001b[39;00m\n\u001b[32m    109\u001b[39m \u001b[33;03m    \"\"\"\u001b[39;00m\n\u001b[32m--> \u001b[39m\u001b[32m110\u001b[39m     \u001b[38;5;28;01mreturn\u001b[39;00m \u001b[43mSelectiveScanFn\u001b[49m\u001b[43m.\u001b[49m\u001b[43mapply\u001b[49m\u001b[43m(\u001b[49m\u001b[43mu\u001b[49m\u001b[43m,\u001b[49m\u001b[43m \u001b[49m\u001b[43mdelta\u001b[49m\u001b[43m,\u001b[49m\u001b[43m \u001b[49m\u001b[43mA\u001b[49m\u001b[43m,\u001b[49m\u001b[43m \u001b[49m\u001b[43mB\u001b[49m\u001b[43m,\u001b[49m\u001b[43m \u001b[49m\u001b[43mC\u001b[49m\u001b[43m,\u001b[49m\u001b[43m \u001b[49m\u001b[43mD\u001b[49m\u001b[43m,\u001b[49m\u001b[43m \u001b[49m\u001b[43mz\u001b[49m\u001b[43m,\u001b[49m\u001b[43m \u001b[49m\u001b[43mdelta_bias\u001b[49m\u001b[43m,\u001b[49m\u001b[43m \u001b[49m\u001b[43mdelta_softplus\u001b[49m\u001b[43m,\u001b[49m\u001b[43m \u001b[49m\u001b[43mreturn_last_state\u001b[49m\u001b[43m)\u001b[49m\n",
      "\u001b[36mFile \u001b[39m\u001b[32m~/anaconda3/envs/py312/lib/python3.12/site-packages/torch/autograd/function.py:575\u001b[39m, in \u001b[36mFunction.apply\u001b[39m\u001b[34m(cls, *args, **kwargs)\u001b[39m\n\u001b[32m    572\u001b[39m \u001b[38;5;28;01mif\u001b[39;00m \u001b[38;5;129;01mnot\u001b[39;00m torch._C._are_functorch_transforms_active():\n\u001b[32m    573\u001b[39m     \u001b[38;5;66;03m# See NOTE: [functorch vjp and autograd interaction]\u001b[39;00m\n\u001b[32m    574\u001b[39m     args = _functorch.utils.unwrap_dead_wrappers(args)\n\u001b[32m--> \u001b[39m\u001b[32m575\u001b[39m     \u001b[38;5;28;01mreturn\u001b[39;00m \u001b[38;5;28;43msuper\u001b[39;49m\u001b[43m(\u001b[49m\u001b[43m)\u001b[49m\u001b[43m.\u001b[49m\u001b[43mapply\u001b[49m\u001b[43m(\u001b[49m\u001b[43m*\u001b[49m\u001b[43margs\u001b[49m\u001b[43m,\u001b[49m\u001b[43m \u001b[49m\u001b[43m*\u001b[49m\u001b[43m*\u001b[49m\u001b[43mkwargs\u001b[49m\u001b[43m)\u001b[49m  \u001b[38;5;66;03m# type: ignore[misc]\u001b[39;00m\n\u001b[32m    577\u001b[39m \u001b[38;5;28;01mif\u001b[39;00m \u001b[38;5;129;01mnot\u001b[39;00m is_setup_ctx_defined:\n\u001b[32m    578\u001b[39m     \u001b[38;5;28;01mraise\u001b[39;00m \u001b[38;5;167;01mRuntimeError\u001b[39;00m(\n\u001b[32m    579\u001b[39m         \u001b[33m\"\u001b[39m\u001b[33mIn order to use an autograd.Function with functorch transforms \u001b[39m\u001b[33m\"\u001b[39m\n\u001b[32m    580\u001b[39m         \u001b[33m\"\u001b[39m\u001b[33m(vmap, grad, jvp, jacrev, ...), it must override the setup_context \u001b[39m\u001b[33m\"\u001b[39m\n\u001b[32m    581\u001b[39m         \u001b[33m\"\u001b[39m\u001b[33mstaticmethod. For more details, please see \u001b[39m\u001b[33m\"\u001b[39m\n\u001b[32m    582\u001b[39m         \u001b[33m\"\u001b[39m\u001b[33mhttps://pytorch.org/docs/main/notes/extending.func.html\u001b[39m\u001b[33m\"\u001b[39m\n\u001b[32m    583\u001b[39m     )\n",
      "\u001b[36mFile \u001b[39m\u001b[32m~/anaconda3/envs/py312/lib/python3.12/site-packages/mamba_ssm/ops/selective_scan_interface.py:44\u001b[39m, in \u001b[36mSelectiveScanFn.forward\u001b[39m\u001b[34m(ctx, u, delta, A, B, C, D, z, delta_bias, delta_softplus, return_last_state)\u001b[39m\n\u001b[32m     42\u001b[39m     C = rearrange(C, \u001b[33m\"\u001b[39m\u001b[33mb dstate l -> b 1 dstate l\u001b[39m\u001b[33m\"\u001b[39m)\n\u001b[32m     43\u001b[39m     ctx.squeeze_C = \u001b[38;5;28;01mTrue\u001b[39;00m\n\u001b[32m---> \u001b[39m\u001b[32m44\u001b[39m out, x, *rest = \u001b[43mselective_scan_cuda\u001b[49m\u001b[43m.\u001b[49m\u001b[43mfwd\u001b[49m\u001b[43m(\u001b[49m\u001b[43mu\u001b[49m\u001b[43m,\u001b[49m\u001b[43m \u001b[49m\u001b[43mdelta\u001b[49m\u001b[43m,\u001b[49m\u001b[43m \u001b[49m\u001b[43mA\u001b[49m\u001b[43m,\u001b[49m\u001b[43m \u001b[49m\u001b[43mB\u001b[49m\u001b[43m,\u001b[49m\u001b[43m \u001b[49m\u001b[43mC\u001b[49m\u001b[43m,\u001b[49m\u001b[43m \u001b[49m\u001b[43mD\u001b[49m\u001b[43m,\u001b[49m\u001b[43m \u001b[49m\u001b[43mz\u001b[49m\u001b[43m,\u001b[49m\u001b[43m \u001b[49m\u001b[43mdelta_bias\u001b[49m\u001b[43m,\u001b[49m\u001b[43m \u001b[49m\u001b[43mdelta_softplus\u001b[49m\u001b[43m)\u001b[49m\n\u001b[32m     45\u001b[39m ctx.delta_softplus = delta_softplus\n\u001b[32m     46\u001b[39m ctx.has_z = z \u001b[38;5;129;01mis\u001b[39;00m \u001b[38;5;129;01mnot\u001b[39;00m \u001b[38;5;28;01mNone\u001b[39;00m\n",
      "\u001b[31mRuntimeError\u001b[39m: Expected u.is_cuda() to be true, but got false.  (Could this error message be improved?  If so, please report an enhancement request to PyTorch.)\nException raised from selective_scan_fwd at /home/runner/work/mamba/mamba/csrc/selective_scan/selective_scan.cpp:246 (most recent call first):\nframe #0: c10::Error::Error(c10::SourceLocation, std::__cxx11::basic_string<char, std::char_traits<char>, std::allocator<char> >) + 0x98 (0x7f521c0cc788 in /home/hd31/anaconda3/envs/py312/lib/python3.12/site-packages/torch/lib/libc10.so)\nframe #1: c10::detail::torchCheckFail(char const*, char const*, unsigned int, char const*) + 0x6a (0x7f521c075fbc in /home/hd31/anaconda3/envs/py312/lib/python3.12/site-packages/torch/lib/libc10.so)\nframe #2: selective_scan_fwd(at::Tensor const&, at::Tensor const&, at::Tensor const&, at::Tensor const&, at::Tensor const&, std::optional<at::Tensor> const&, std::optional<at::Tensor> const&, std::optional<at::Tensor> const&, bool) + 0x22f (0x7f51044c89ff in /home/hd31/anaconda3/envs/py312/lib/python3.12/site-packages/selective_scan_cuda.cpython-312-x86_64-linux-gnu.so)\nframe #3: <unknown function> + 0x92ed4 (0x7f51044e1ed4 in /home/hd31/anaconda3/envs/py312/lib/python3.12/site-packages/selective_scan_cuda.cpython-312-x86_64-linux-gnu.so)\nframe #4: <unknown function> + 0x8fc95 (0x7f51044dec95 in /home/hd31/anaconda3/envs/py312/lib/python3.12/site-packages/selective_scan_cuda.cpython-312-x86_64-linux-gnu.so)\nframe #5: /home/hd31/anaconda3/envs/py312/bin/python3.12() [0x54d2d4]\nframe #6: _PyObject_MakeTpCall + 0x2fb (0x51e38b in /home/hd31/anaconda3/envs/py312/bin/python3.12)\nframe #7: _PyEval_EvalFrameDefault + 0x6ce (0x528ede in /home/hd31/anaconda3/envs/py312/bin/python3.12)\nframe #8: THPFunction_apply(_object*, _object*) + 0xe30 (0x7f5213e0fe90 in /home/hd31/anaconda3/envs/py312/lib/python3.12/site-packages/torch/lib/libtorch_python.so)\nframe #9: /home/hd31/anaconda3/envs/py312/bin/python3.12() [0x54d2fc]\nframe #10: _PyObject_Call + 0xb5 (0x55e0f5 in /home/hd31/anaconda3/envs/py312/bin/python3.12)\nframe #11: _PyEval_EvalFrameDefault + 0x503a (0x52d84a in /home/hd31/anaconda3/envs/py312/bin/python3.12)\nframe #12: /home/hd31/anaconda3/envs/py312/bin/python3.12() [0x578d57]\nframe #13: _PyEval_EvalFrameDefault + 0x503a (0x52d84a in /home/hd31/anaconda3/envs/py312/bin/python3.12)\nframe #14: /home/hd31/anaconda3/envs/py312/bin/python3.12() [0x578d57]\nframe #15: _PyEval_EvalFrameDefault + 0x503a (0x52d84a in /home/hd31/anaconda3/envs/py312/bin/python3.12)\nframe #16: _PyObject_FastCallDictTstate + 0x1e7 (0x520f07 in /home/hd31/anaconda3/envs/py312/bin/python3.12)\nframe #17: _PyObject_Call_Prepend + 0x66 (0x55b4c6 in /home/hd31/anaconda3/envs/py312/bin/python3.12)\nframe #18: /home/hd31/anaconda3/envs/py312/bin/python3.12() [0x630ff6]\nframe #19: _PyObject_MakeTpCall + 0x2fb (0x51e38b in /home/hd31/anaconda3/envs/py312/bin/python3.12)\nframe #20: _PyEval_EvalFrameDefault + 0x6ce (0x528ede in /home/hd31/anaconda3/envs/py312/bin/python3.12)\nframe #21: /home/hd31/anaconda3/envs/py312/bin/python3.12() [0x578d57]\nframe #22: _PyEval_EvalFrameDefault + 0x503a (0x52d84a in /home/hd31/anaconda3/envs/py312/bin/python3.12)\nframe #23: /home/hd31/anaconda3/envs/py312/bin/python3.12() [0x578d57]\nframe #24: _PyEval_EvalFrameDefault + 0x503a (0x52d84a in /home/hd31/anaconda3/envs/py312/bin/python3.12)\nframe #25: _PyObject_FastCallDictTstate + 0x1e7 (0x520f07 in /home/hd31/anaconda3/envs/py312/bin/python3.12)\nframe #26: _PyObject_Call_Prepend + 0x66 (0x55b4c6 in /home/hd31/anaconda3/envs/py312/bin/python3.12)\nframe #27: /home/hd31/anaconda3/envs/py312/bin/python3.12() [0x630ff6]\nframe #28: _PyObject_MakeTpCall + 0x2fb (0x51e38b in /home/hd31/anaconda3/envs/py312/bin/python3.12)\nframe #29: _PyEval_EvalFrameDefault + 0x6ce (0x528ede in /home/hd31/anaconda3/envs/py312/bin/python3.12)\nframe #30: PyEval_EvalCode + 0xae (0x5e581e in /home/hd31/anaconda3/envs/py312/bin/python3.12)\nframe #31: /home/hd31/anaconda3/envs/py312/bin/python3.12() [0x603679]\nframe #32: _PyEval_EvalFrameDefault + 0x3a89 (0x52c299 in /home/hd31/anaconda3/envs/py312/bin/python3.12)\nframe #33: /home/hd31/anaconda3/envs/py312/bin/python3.12() [0x5fe027]\nframe #34: /home/hd31/anaconda3/envs/py312/bin/python3.12() [0x5ff2a6]\nframe #35: _PyEval_EvalFrameDefault + 0x4698 (0x52cea8 in /home/hd31/anaconda3/envs/py312/bin/python3.12)\nframe #36: /home/hd31/anaconda3/envs/py312/bin/python3.12() [0x5792ad]\nframe #37: /home/hd31/anaconda3/envs/py312/bin/python3.12() [0x578dbd]\nframe #38: _PyObject_Call + 0x122 (0x55e162 in /home/hd31/anaconda3/envs/py312/bin/python3.12)\nframe #39: _PyEval_EvalFrameDefault + 0x503a (0x52d84a in /home/hd31/anaconda3/envs/py312/bin/python3.12)\nframe #40: /home/hd31/anaconda3/envs/py312/bin/python3.12() [0x5fe027]\nframe #41: <unknown function> + 0x841b (0x7f5272e1941b in /home/hd31/anaconda3/envs/py312/lib/python3.12/lib-dynload/_asyncio.cpython-312-x86_64-linux-gnu.so)\nframe #42: <unknown function> + 0x8c27 (0x7f5272e19c27 in /home/hd31/anaconda3/envs/py312/lib/python3.12/lib-dynload/_asyncio.cpython-312-x86_64-linux-gnu.so)\nframe #43: /home/hd31/anaconda3/envs/py312/bin/python3.12() [0x54be6b]\nframe #44: /home/hd31/anaconda3/envs/py312/bin/python3.12() [0x67bfd1]\nframe #45: /home/hd31/anaconda3/envs/py312/bin/python3.12() [0x4dd071]\nframe #46: /home/hd31/anaconda3/envs/py312/bin/python3.12() [0x5418be]\nframe #47: _PyEval_EvalFrameDefault + 0x503a (0x52d84a in /home/hd31/anaconda3/envs/py312/bin/python3.12)\nframe #48: PyEval_EvalCode + 0xae (0x5e581e in /home/hd31/anaconda3/envs/py312/bin/python3.12)\nframe #49: /home/hd31/anaconda3/envs/py312/bin/python3.12() [0x603679]\nframe #50: /home/hd31/anaconda3/envs/py312/bin/python3.12() [0x5418be]\nframe #51: PyObject_Vectorcall + 0x51 (0x5416a1 in /home/hd31/anaconda3/envs/py312/bin/python3.12)\nframe #52: _PyEval_EvalFrameDefault + 0x6ce (0x528ede in /home/hd31/anaconda3/envs/py312/bin/python3.12)\nframe #53: /home/hd31/anaconda3/envs/py312/bin/python3.12() [0x6181af]\nframe #54: Py_RunMain + 0x3d8 (0x617d68 in /home/hd31/anaconda3/envs/py312/bin/python3.12)\nframe #55: Py_BytesMain + 0x39 (0x5d03c9 in /home/hd31/anaconda3/envs/py312/bin/python3.12)\nframe #56: <unknown function> + 0x29d90 (0x7f5273fe7d90 in /lib/x86_64-linux-gnu/libc.so.6)\nframe #57: __libc_start_main + 0x80 (0x7f5273fe7e40 in /lib/x86_64-linux-gnu/libc.so.6)\nframe #58: /home/hd31/anaconda3/envs/py312/bin/python3.12() [0x5d01f9]\n"
     ]
    }
   ],
   "source": [
    "out = model(batch['input_ids'], batch['attention_mask'])\n",
    "out.shape"
   ]
  },
  {
   "cell_type": "markdown",
   "metadata": {},
   "source": [
    "## Train"
   ]
  },
  {
   "cell_type": "code",
   "execution_count": 13,
   "metadata": {},
   "outputs": [
    {
     "name": "stderr",
     "output_type": "stream",
     "text": [
      "Trainer already configured with model summary callbacks: [<class 'pytorch_lightning.callbacks.model_summary.ModelSummary'>]. Skipping setting a default `ModelSummary` callback.\n",
      "GPU available: True, used: True\n",
      "TPU available: False, using: 0 TPU cores\n",
      "IPU available: False, using: 0 IPUs\n",
      "HPU available: False, using: 0 HPUs\n",
      "LOCAL_RANK: 0 - CUDA_VISIBLE_DEVICES: [1]\n",
      "\n",
      "  | Name                       | Type       | Params\n",
      "----------------------------------------------------------\n",
      "0 | model                      | SASRec     | 282 K \n",
      "1 | model.item_emb             | Embedding  | 218 K \n",
      "2 | model.pos_emb              | Embedding  | 12.8 K\n",
      "3 | model.emb_dropout          | Dropout    | 0     \n",
      "4 | model.attention_layernorms | ModuleList | 256   \n",
      "5 | model.attention_layers     | ModuleList | 33.3 K\n",
      "6 | model.forward_layernorms   | ModuleList | 256   \n",
      "7 | model.forward_layers       | ModuleList | 16.6 K\n",
      "8 | model.last_layernorm       | LayerNorm  | 128   \n",
      "----------------------------------------------------------\n",
      "282 K     Trainable params\n",
      "0         Non-trainable params\n",
      "282 K     Total params\n",
      "1.128     Total estimated model params size (MB)\n"
     ]
    },
    {
     "data": {
      "application/vnd.jupyter.widget-view+json": {
       "model_id": "",
       "version_major": 2,
       "version_minor": 0
      },
      "text/plain": [
       "Sanity Checking: 0it [00:00, ?it/s]"
      ]
     },
     "metadata": {},
     "output_type": "display_data"
    },
    {
     "name": "stderr",
     "output_type": "stream",
     "text": [
      "/home/antklen/anaconda3/envs/ptls/lib/python3.9/site-packages/pytorch_lightning/trainer/trainer.py:1933: PossibleUserWarning: The number of training batches (48) is smaller than the logging interval Trainer(log_every_n_steps=50). Set a lower value for log_every_n_steps if you want to see logs for the training epoch.\n",
      "  rank_zero_warn(\n"
     ]
    },
    {
     "data": {
      "application/vnd.jupyter.widget-view+json": {
       "model_id": "f92be976a57d42e7a8d72780dc4b8632",
       "version_major": 2,
       "version_minor": 0
      },
      "text/plain": [
       "Training: 0it [00:00, ?it/s]"
      ]
     },
     "metadata": {},
     "output_type": "display_data"
    },
    {
     "data": {
      "application/vnd.jupyter.widget-view+json": {
       "model_id": "",
       "version_major": 2,
       "version_minor": 0
      },
      "text/plain": [
       "Validation: 0it [00:00, ?it/s]"
      ]
     },
     "metadata": {},
     "output_type": "display_data"
    },
    {
     "data": {
      "application/vnd.jupyter.widget-view+json": {
       "model_id": "",
       "version_major": 2,
       "version_minor": 0
      },
      "text/plain": [
       "Validation: 0it [00:00, ?it/s]"
      ]
     },
     "metadata": {},
     "output_type": "display_data"
    },
    {
     "data": {
      "application/vnd.jupyter.widget-view+json": {
       "model_id": "",
       "version_major": 2,
       "version_minor": 0
      },
      "text/plain": [
       "Validation: 0it [00:00, ?it/s]"
      ]
     },
     "metadata": {},
     "output_type": "display_data"
    },
    {
     "data": {
      "application/vnd.jupyter.widget-view+json": {
       "model_id": "",
       "version_major": 2,
       "version_minor": 0
      },
      "text/plain": [
       "Validation: 0it [00:00, ?it/s]"
      ]
     },
     "metadata": {},
     "output_type": "display_data"
    },
    {
     "data": {
      "application/vnd.jupyter.widget-view+json": {
       "model_id": "",
       "version_major": 2,
       "version_minor": 0
      },
      "text/plain": [
       "Validation: 0it [00:00, ?it/s]"
      ]
     },
     "metadata": {},
     "output_type": "display_data"
    },
    {
     "data": {
      "application/vnd.jupyter.widget-view+json": {
       "model_id": "",
       "version_major": 2,
       "version_minor": 0
      },
      "text/plain": [
       "Validation: 0it [00:00, ?it/s]"
      ]
     },
     "metadata": {},
     "output_type": "display_data"
    },
    {
     "data": {
      "application/vnd.jupyter.widget-view+json": {
       "model_id": "",
       "version_major": 2,
       "version_minor": 0
      },
      "text/plain": [
       "Validation: 0it [00:00, ?it/s]"
      ]
     },
     "metadata": {},
     "output_type": "display_data"
    },
    {
     "data": {
      "application/vnd.jupyter.widget-view+json": {
       "model_id": "",
       "version_major": 2,
       "version_minor": 0
      },
      "text/plain": [
       "Validation: 0it [00:00, ?it/s]"
      ]
     },
     "metadata": {},
     "output_type": "display_data"
    },
    {
     "data": {
      "application/vnd.jupyter.widget-view+json": {
       "model_id": "",
       "version_major": 2,
       "version_minor": 0
      },
      "text/plain": [
       "Validation: 0it [00:00, ?it/s]"
      ]
     },
     "metadata": {},
     "output_type": "display_data"
    },
    {
     "data": {
      "application/vnd.jupyter.widget-view+json": {
       "model_id": "",
       "version_major": 2,
       "version_minor": 0
      },
      "text/plain": [
       "Validation: 0it [00:00, ?it/s]"
      ]
     },
     "metadata": {},
     "output_type": "display_data"
    },
    {
     "data": {
      "application/vnd.jupyter.widget-view+json": {
       "model_id": "",
       "version_major": 2,
       "version_minor": 0
      },
      "text/plain": [
       "Validation: 0it [00:00, ?it/s]"
      ]
     },
     "metadata": {},
     "output_type": "display_data"
    },
    {
     "data": {
      "application/vnd.jupyter.widget-view+json": {
       "model_id": "",
       "version_major": 2,
       "version_minor": 0
      },
      "text/plain": [
       "Validation: 0it [00:00, ?it/s]"
      ]
     },
     "metadata": {},
     "output_type": "display_data"
    },
    {
     "data": {
      "application/vnd.jupyter.widget-view+json": {
       "model_id": "",
       "version_major": 2,
       "version_minor": 0
      },
      "text/plain": [
       "Validation: 0it [00:00, ?it/s]"
      ]
     },
     "metadata": {},
     "output_type": "display_data"
    },
    {
     "data": {
      "application/vnd.jupyter.widget-view+json": {
       "model_id": "",
       "version_major": 2,
       "version_minor": 0
      },
      "text/plain": [
       "Validation: 0it [00:00, ?it/s]"
      ]
     },
     "metadata": {},
     "output_type": "display_data"
    },
    {
     "data": {
      "application/vnd.jupyter.widget-view+json": {
       "model_id": "",
       "version_major": 2,
       "version_minor": 0
      },
      "text/plain": [
       "Validation: 0it [00:00, ?it/s]"
      ]
     },
     "metadata": {},
     "output_type": "display_data"
    },
    {
     "data": {
      "application/vnd.jupyter.widget-view+json": {
       "model_id": "",
       "version_major": 2,
       "version_minor": 0
      },
      "text/plain": [
       "Validation: 0it [00:00, ?it/s]"
      ]
     },
     "metadata": {},
     "output_type": "display_data"
    },
    {
     "data": {
      "application/vnd.jupyter.widget-view+json": {
       "model_id": "",
       "version_major": 2,
       "version_minor": 0
      },
      "text/plain": [
       "Validation: 0it [00:00, ?it/s]"
      ]
     },
     "metadata": {},
     "output_type": "display_data"
    },
    {
     "data": {
      "application/vnd.jupyter.widget-view+json": {
       "model_id": "",
       "version_major": 2,
       "version_minor": 0
      },
      "text/plain": [
       "Validation: 0it [00:00, ?it/s]"
      ]
     },
     "metadata": {},
     "output_type": "display_data"
    },
    {
     "data": {
      "application/vnd.jupyter.widget-view+json": {
       "model_id": "",
       "version_major": 2,
       "version_minor": 0
      },
      "text/plain": [
       "Validation: 0it [00:00, ?it/s]"
      ]
     },
     "metadata": {},
     "output_type": "display_data"
    },
    {
     "data": {
      "application/vnd.jupyter.widget-view+json": {
       "model_id": "",
       "version_major": 2,
       "version_minor": 0
      },
      "text/plain": [
       "Validation: 0it [00:00, ?it/s]"
      ]
     },
     "metadata": {},
     "output_type": "display_data"
    },
    {
     "data": {
      "application/vnd.jupyter.widget-view+json": {
       "model_id": "",
       "version_major": 2,
       "version_minor": 0
      },
      "text/plain": [
       "Validation: 0it [00:00, ?it/s]"
      ]
     },
     "metadata": {},
     "output_type": "display_data"
    },
    {
     "data": {
      "application/vnd.jupyter.widget-view+json": {
       "model_id": "",
       "version_major": 2,
       "version_minor": 0
      },
      "text/plain": [
       "Validation: 0it [00:00, ?it/s]"
      ]
     },
     "metadata": {},
     "output_type": "display_data"
    },
    {
     "data": {
      "application/vnd.jupyter.widget-view+json": {
       "model_id": "",
       "version_major": 2,
       "version_minor": 0
      },
      "text/plain": [
       "Validation: 0it [00:00, ?it/s]"
      ]
     },
     "metadata": {},
     "output_type": "display_data"
    },
    {
     "data": {
      "application/vnd.jupyter.widget-view+json": {
       "model_id": "",
       "version_major": 2,
       "version_minor": 0
      },
      "text/plain": [
       "Validation: 0it [00:00, ?it/s]"
      ]
     },
     "metadata": {},
     "output_type": "display_data"
    },
    {
     "data": {
      "application/vnd.jupyter.widget-view+json": {
       "model_id": "",
       "version_major": 2,
       "version_minor": 0
      },
      "text/plain": [
       "Validation: 0it [00:00, ?it/s]"
      ]
     },
     "metadata": {},
     "output_type": "display_data"
    },
    {
     "data": {
      "application/vnd.jupyter.widget-view+json": {
       "model_id": "",
       "version_major": 2,
       "version_minor": 0
      },
      "text/plain": [
       "Validation: 0it [00:00, ?it/s]"
      ]
     },
     "metadata": {},
     "output_type": "display_data"
    },
    {
     "data": {
      "application/vnd.jupyter.widget-view+json": {
       "model_id": "",
       "version_major": 2,
       "version_minor": 0
      },
      "text/plain": [
       "Validation: 0it [00:00, ?it/s]"
      ]
     },
     "metadata": {},
     "output_type": "display_data"
    },
    {
     "data": {
      "application/vnd.jupyter.widget-view+json": {
       "model_id": "",
       "version_major": 2,
       "version_minor": 0
      },
      "text/plain": [
       "Validation: 0it [00:00, ?it/s]"
      ]
     },
     "metadata": {},
     "output_type": "display_data"
    },
    {
     "data": {
      "application/vnd.jupyter.widget-view+json": {
       "model_id": "",
       "version_major": 2,
       "version_minor": 0
      },
      "text/plain": [
       "Validation: 0it [00:00, ?it/s]"
      ]
     },
     "metadata": {},
     "output_type": "display_data"
    },
    {
     "data": {
      "application/vnd.jupyter.widget-view+json": {
       "model_id": "",
       "version_major": 2,
       "version_minor": 0
      },
      "text/plain": [
       "Validation: 0it [00:00, ?it/s]"
      ]
     },
     "metadata": {},
     "output_type": "display_data"
    },
    {
     "data": {
      "application/vnd.jupyter.widget-view+json": {
       "model_id": "",
       "version_major": 2,
       "version_minor": 0
      },
      "text/plain": [
       "Validation: 0it [00:00, ?it/s]"
      ]
     },
     "metadata": {},
     "output_type": "display_data"
    },
    {
     "data": {
      "application/vnd.jupyter.widget-view+json": {
       "model_id": "",
       "version_major": 2,
       "version_minor": 0
      },
      "text/plain": [
       "Validation: 0it [00:00, ?it/s]"
      ]
     },
     "metadata": {},
     "output_type": "display_data"
    },
    {
     "data": {
      "application/vnd.jupyter.widget-view+json": {
       "model_id": "",
       "version_major": 2,
       "version_minor": 0
      },
      "text/plain": [
       "Validation: 0it [00:00, ?it/s]"
      ]
     },
     "metadata": {},
     "output_type": "display_data"
    },
    {
     "data": {
      "application/vnd.jupyter.widget-view+json": {
       "model_id": "",
       "version_major": 2,
       "version_minor": 0
      },
      "text/plain": [
       "Validation: 0it [00:00, ?it/s]"
      ]
     },
     "metadata": {},
     "output_type": "display_data"
    },
    {
     "data": {
      "application/vnd.jupyter.widget-view+json": {
       "model_id": "",
       "version_major": 2,
       "version_minor": 0
      },
      "text/plain": [
       "Validation: 0it [00:00, ?it/s]"
      ]
     },
     "metadata": {},
     "output_type": "display_data"
    },
    {
     "data": {
      "application/vnd.jupyter.widget-view+json": {
       "model_id": "",
       "version_major": 2,
       "version_minor": 0
      },
      "text/plain": [
       "Validation: 0it [00:00, ?it/s]"
      ]
     },
     "metadata": {},
     "output_type": "display_data"
    },
    {
     "data": {
      "application/vnd.jupyter.widget-view+json": {
       "model_id": "",
       "version_major": 2,
       "version_minor": 0
      },
      "text/plain": [
       "Validation: 0it [00:00, ?it/s]"
      ]
     },
     "metadata": {},
     "output_type": "display_data"
    },
    {
     "data": {
      "application/vnd.jupyter.widget-view+json": {
       "model_id": "",
       "version_major": 2,
       "version_minor": 0
      },
      "text/plain": [
       "Validation: 0it [00:00, ?it/s]"
      ]
     },
     "metadata": {},
     "output_type": "display_data"
    },
    {
     "data": {
      "application/vnd.jupyter.widget-view+json": {
       "model_id": "",
       "version_major": 2,
       "version_minor": 0
      },
      "text/plain": [
       "Validation: 0it [00:00, ?it/s]"
      ]
     },
     "metadata": {},
     "output_type": "display_data"
    },
    {
     "data": {
      "application/vnd.jupyter.widget-view+json": {
       "model_id": "",
       "version_major": 2,
       "version_minor": 0
      },
      "text/plain": [
       "Validation: 0it [00:00, ?it/s]"
      ]
     },
     "metadata": {},
     "output_type": "display_data"
    },
    {
     "data": {
      "application/vnd.jupyter.widget-view+json": {
       "model_id": "",
       "version_major": 2,
       "version_minor": 0
      },
      "text/plain": [
       "Validation: 0it [00:00, ?it/s]"
      ]
     },
     "metadata": {},
     "output_type": "display_data"
    },
    {
     "data": {
      "application/vnd.jupyter.widget-view+json": {
       "model_id": "",
       "version_major": 2,
       "version_minor": 0
      },
      "text/plain": [
       "Validation: 0it [00:00, ?it/s]"
      ]
     },
     "metadata": {},
     "output_type": "display_data"
    },
    {
     "data": {
      "application/vnd.jupyter.widget-view+json": {
       "model_id": "",
       "version_major": 2,
       "version_minor": 0
      },
      "text/plain": [
       "Validation: 0it [00:00, ?it/s]"
      ]
     },
     "metadata": {},
     "output_type": "display_data"
    },
    {
     "data": {
      "application/vnd.jupyter.widget-view+json": {
       "model_id": "",
       "version_major": 2,
       "version_minor": 0
      },
      "text/plain": [
       "Validation: 0it [00:00, ?it/s]"
      ]
     },
     "metadata": {},
     "output_type": "display_data"
    },
    {
     "data": {
      "application/vnd.jupyter.widget-view+json": {
       "model_id": "",
       "version_major": 2,
       "version_minor": 0
      },
      "text/plain": [
       "Validation: 0it [00:00, ?it/s]"
      ]
     },
     "metadata": {},
     "output_type": "display_data"
    },
    {
     "data": {
      "application/vnd.jupyter.widget-view+json": {
       "model_id": "",
       "version_major": 2,
       "version_minor": 0
      },
      "text/plain": [
       "Validation: 0it [00:00, ?it/s]"
      ]
     },
     "metadata": {},
     "output_type": "display_data"
    },
    {
     "data": {
      "application/vnd.jupyter.widget-view+json": {
       "model_id": "d7060b894da14b96b0669e75f5b6ea41",
       "version_major": 2,
       "version_minor": 0
      },
      "text/plain": [
       "Validation: 0it [00:00, ?it/s]"
      ]
     },
     "metadata": {},
     "output_type": "display_data"
    },
    {
     "data": {
      "application/vnd.jupyter.widget-view+json": {
       "model_id": "e704639bb5f144dca57fcdefa9b47460",
       "version_major": 2,
       "version_minor": 0
      },
      "text/plain": [
       "Validation: 0it [00:00, ?it/s]"
      ]
     },
     "metadata": {},
     "output_type": "display_data"
    },
    {
     "data": {
      "application/vnd.jupyter.widget-view+json": {
       "model_id": "700fda46dbbb4c06af9be73963c06c86",
       "version_major": 2,
       "version_minor": 0
      },
      "text/plain": [
       "Validation: 0it [00:00, ?it/s]"
      ]
     },
     "metadata": {},
     "output_type": "display_data"
    },
    {
     "data": {
      "application/vnd.jupyter.widget-view+json": {
       "model_id": "7f1bd6d10acf41e6a9a6751658d98d9a",
       "version_major": 2,
       "version_minor": 0
      },
      "text/plain": [
       "Validation: 0it [00:00, ?it/s]"
      ]
     },
     "metadata": {},
     "output_type": "display_data"
    },
    {
     "data": {
      "application/vnd.jupyter.widget-view+json": {
       "model_id": "766989e7e560432786b6defe96055feb",
       "version_major": 2,
       "version_minor": 0
      },
      "text/plain": [
       "Validation: 0it [00:00, ?it/s]"
      ]
     },
     "metadata": {},
     "output_type": "display_data"
    },
    {
     "data": {
      "application/vnd.jupyter.widget-view+json": {
       "model_id": "1830f03ac230461c90e86d2c72aa0bb1",
       "version_major": 2,
       "version_minor": 0
      },
      "text/plain": [
       "Validation: 0it [00:00, ?it/s]"
      ]
     },
     "metadata": {},
     "output_type": "display_data"
    },
    {
     "data": {
      "application/vnd.jupyter.widget-view+json": {
       "model_id": "3a6038d7737848adaae2c69ccf9cafa6",
       "version_major": 2,
       "version_minor": 0
      },
      "text/plain": [
       "Validation: 0it [00:00, ?it/s]"
      ]
     },
     "metadata": {},
     "output_type": "display_data"
    },
    {
     "data": {
      "application/vnd.jupyter.widget-view+json": {
       "model_id": "92edbd97ded545ee85b10f08c69f2659",
       "version_major": 2,
       "version_minor": 0
      },
      "text/plain": [
       "Validation: 0it [00:00, ?it/s]"
      ]
     },
     "metadata": {},
     "output_type": "display_data"
    },
    {
     "data": {
      "application/vnd.jupyter.widget-view+json": {
       "model_id": "b17a4115977b495d8eac3616db4e1a01",
       "version_major": 2,
       "version_minor": 0
      },
      "text/plain": [
       "Validation: 0it [00:00, ?it/s]"
      ]
     },
     "metadata": {},
     "output_type": "display_data"
    },
    {
     "data": {
      "application/vnd.jupyter.widget-view+json": {
       "model_id": "7ae315c7d15a4ac7b5107a5aa752a447",
       "version_major": 2,
       "version_minor": 0
      },
      "text/plain": [
       "Validation: 0it [00:00, ?it/s]"
      ]
     },
     "metadata": {},
     "output_type": "display_data"
    },
    {
     "data": {
      "application/vnd.jupyter.widget-view+json": {
       "model_id": "1e064c10f10342b28418a4c14a5dfe4b",
       "version_major": 2,
       "version_minor": 0
      },
      "text/plain": [
       "Validation: 0it [00:00, ?it/s]"
      ]
     },
     "metadata": {},
     "output_type": "display_data"
    },
    {
     "data": {
      "application/vnd.jupyter.widget-view+json": {
       "model_id": "163cb8675c3e4dc39022f021015d33fc",
       "version_major": 2,
       "version_minor": 0
      },
      "text/plain": [
       "Validation: 0it [00:00, ?it/s]"
      ]
     },
     "metadata": {},
     "output_type": "display_data"
    },
    {
     "data": {
      "application/vnd.jupyter.widget-view+json": {
       "model_id": "341b10296cb644649ec7ad9a5e4ecb3b",
       "version_major": 2,
       "version_minor": 0
      },
      "text/plain": [
       "Validation: 0it [00:00, ?it/s]"
      ]
     },
     "metadata": {},
     "output_type": "display_data"
    },
    {
     "data": {
      "application/vnd.jupyter.widget-view+json": {
       "model_id": "f9c620b33f3c47f1a3d57e23c6cdff13",
       "version_major": 2,
       "version_minor": 0
      },
      "text/plain": [
       "Validation: 0it [00:00, ?it/s]"
      ]
     },
     "metadata": {},
     "output_type": "display_data"
    },
    {
     "data": {
      "application/vnd.jupyter.widget-view+json": {
       "model_id": "a313b3d870a248aea943e05f26614f70",
       "version_major": 2,
       "version_minor": 0
      },
      "text/plain": [
       "Validation: 0it [00:00, ?it/s]"
      ]
     },
     "metadata": {},
     "output_type": "display_data"
    },
    {
     "data": {
      "application/vnd.jupyter.widget-view+json": {
       "model_id": "f891eb0c9d6f4ab1beeaa9c8111dc537",
       "version_major": 2,
       "version_minor": 0
      },
      "text/plain": [
       "Validation: 0it [00:00, ?it/s]"
      ]
     },
     "metadata": {},
     "output_type": "display_data"
    },
    {
     "data": {
      "application/vnd.jupyter.widget-view+json": {
       "model_id": "e8a6e4daded0410c8cd7abb50be6d4bc",
       "version_major": 2,
       "version_minor": 0
      },
      "text/plain": [
       "Validation: 0it [00:00, ?it/s]"
      ]
     },
     "metadata": {},
     "output_type": "display_data"
    },
    {
     "data": {
      "application/vnd.jupyter.widget-view+json": {
       "model_id": "18e82f7a412c4f8bbbb367bd5a12f9c2",
       "version_major": 2,
       "version_minor": 0
      },
      "text/plain": [
       "Validation: 0it [00:00, ?it/s]"
      ]
     },
     "metadata": {},
     "output_type": "display_data"
    },
    {
     "data": {
      "application/vnd.jupyter.widget-view+json": {
       "model_id": "9babe149bdc9455c8d912f7e895625eb",
       "version_major": 2,
       "version_minor": 0
      },
      "text/plain": [
       "Validation: 0it [00:00, ?it/s]"
      ]
     },
     "metadata": {},
     "output_type": "display_data"
    },
    {
     "data": {
      "application/vnd.jupyter.widget-view+json": {
       "model_id": "4ee0d34c7ba74209a777ef0c1a1758d7",
       "version_major": 2,
       "version_minor": 0
      },
      "text/plain": [
       "Validation: 0it [00:00, ?it/s]"
      ]
     },
     "metadata": {},
     "output_type": "display_data"
    },
    {
     "data": {
      "application/vnd.jupyter.widget-view+json": {
       "model_id": "f229bbce02754d78bd2e8a2b91c27c07",
       "version_major": 2,
       "version_minor": 0
      },
      "text/plain": [
       "Validation: 0it [00:00, ?it/s]"
      ]
     },
     "metadata": {},
     "output_type": "display_data"
    },
    {
     "data": {
      "application/vnd.jupyter.widget-view+json": {
       "model_id": "73142e84bb074586b6df06c15aefd192",
       "version_major": 2,
       "version_minor": 0
      },
      "text/plain": [
       "Validation: 0it [00:00, ?it/s]"
      ]
     },
     "metadata": {},
     "output_type": "display_data"
    },
    {
     "data": {
      "application/vnd.jupyter.widget-view+json": {
       "model_id": "ee6ec57d7a7e4d8593c2cf4d10327c12",
       "version_major": 2,
       "version_minor": 0
      },
      "text/plain": [
       "Validation: 0it [00:00, ?it/s]"
      ]
     },
     "metadata": {},
     "output_type": "display_data"
    },
    {
     "data": {
      "application/vnd.jupyter.widget-view+json": {
       "model_id": "f3be56ca73834e76a4fef52fe0f85106",
       "version_major": 2,
       "version_minor": 0
      },
      "text/plain": [
       "Validation: 0it [00:00, ?it/s]"
      ]
     },
     "metadata": {},
     "output_type": "display_data"
    },
    {
     "data": {
      "application/vnd.jupyter.widget-view+json": {
       "model_id": "6f5ddf73a7164602a7885a42c6efd9b6",
       "version_major": 2,
       "version_minor": 0
      },
      "text/plain": [
       "Validation: 0it [00:00, ?it/s]"
      ]
     },
     "metadata": {},
     "output_type": "display_data"
    },
    {
     "data": {
      "application/vnd.jupyter.widget-view+json": {
       "model_id": "02043642edd242e7a574434d27a60eca",
       "version_major": 2,
       "version_minor": 0
      },
      "text/plain": [
       "Validation: 0it [00:00, ?it/s]"
      ]
     },
     "metadata": {},
     "output_type": "display_data"
    }
   ],
   "source": [
    "if hasattr(config.dataset, 'num_negatives') and config.dataset.num_negatives:\n",
    "    seqrec_module = SeqRecWithSampling(model, **config['seqrec_module'])\n",
    "else:\n",
    "    seqrec_module = SeqRec(model, **config['seqrec_module'])\n",
    "    \n",
    "early_stopping = EarlyStopping(monitor=\"val_ndcg\", mode=\"max\",\n",
    "                               patience=config.patience, verbose=False)\n",
    "model_summary = ModelSummary(max_depth=2)\n",
    "checkpoint = ModelCheckpoint(save_top_k=1, monitor=\"val_ndcg\",\n",
    "                             mode=\"max\", save_weights_only=True)\n",
    "callbacks=[early_stopping, model_summary, checkpoint]\n",
    "\n",
    "trainer = pl.Trainer(callbacks=callbacks, enable_checkpointing=True,\n",
    "                     gpus=1, **config['trainer_params'])\n",
    "\n",
    "trainer.fit(model=seqrec_module,\n",
    "            train_dataloaders=train_loader,\n",
    "            val_dataloaders=eval_loader)"
   ]
  },
  {
   "cell_type": "code",
   "execution_count": 14,
   "metadata": {},
   "outputs": [
    {
     "data": {
      "text/plain": [
       "<All keys matched successfully>"
      ]
     },
     "execution_count": 14,
     "metadata": {},
     "output_type": "execute_result"
    }
   ],
   "source": [
    "seqrec_module.load_state_dict(torch.load(checkpoint.best_model_path)['state_dict'])"
   ]
  },
  {
   "cell_type": "markdown",
   "metadata": {},
   "source": [
    "## Validation metrics"
   ]
  },
  {
   "cell_type": "code",
   "execution_count": 15,
   "metadata": {},
   "outputs": [
    {
     "name": "stderr",
     "output_type": "stream",
     "text": [
      "LOCAL_RANK: 0 - CUDA_VISIBLE_DEVICES: [1]\n"
     ]
    },
    {
     "data": {
      "application/vnd.jupyter.widget-view+json": {
       "model_id": "12729178b23443be93adf5ef1b606667",
       "version_major": 2,
       "version_minor": 0
      },
      "text/plain": [
       "Predicting: 48it [00:00, ?it/s]"
      ]
     },
     "metadata": {},
     "output_type": "display_data"
    },
    {
     "name": "stdout",
     "output_type": "stream",
     "text": [
      "(604000, 3)\n"
     ]
    },
    {
     "data": {
      "text/html": [
       "<div>\n",
       "<style scoped>\n",
       "    .dataframe tbody tr th:only-of-type {\n",
       "        vertical-align: middle;\n",
       "    }\n",
       "\n",
       "    .dataframe tbody tr th {\n",
       "        vertical-align: top;\n",
       "    }\n",
       "\n",
       "    .dataframe thead th {\n",
       "        text-align: right;\n",
       "    }\n",
       "</style>\n",
       "<table border=\"1\" class=\"dataframe\">\n",
       "  <thead>\n",
       "    <tr style=\"text-align: right;\">\n",
       "      <th></th>\n",
       "      <th>user_id</th>\n",
       "      <th>item_id</th>\n",
       "      <th>prediction</th>\n",
       "    </tr>\n",
       "  </thead>\n",
       "  <tbody>\n",
       "    <tr>\n",
       "      <th>0</th>\n",
       "      <td>1</td>\n",
       "      <td>737</td>\n",
       "      <td>7.598266</td>\n",
       "    </tr>\n",
       "    <tr>\n",
       "      <th>1</th>\n",
       "      <td>1</td>\n",
       "      <td>663</td>\n",
       "      <td>7.248270</td>\n",
       "    </tr>\n",
       "    <tr>\n",
       "      <th>2</th>\n",
       "      <td>1</td>\n",
       "      <td>102</td>\n",
       "      <td>7.237531</td>\n",
       "    </tr>\n",
       "    <tr>\n",
       "      <th>3</th>\n",
       "      <td>1</td>\n",
       "      <td>745</td>\n",
       "      <td>7.148354</td>\n",
       "    </tr>\n",
       "    <tr>\n",
       "      <th>4</th>\n",
       "      <td>1</td>\n",
       "      <td>1125</td>\n",
       "      <td>7.065181</td>\n",
       "    </tr>\n",
       "  </tbody>\n",
       "</table>\n",
       "</div>"
      ],
      "text/plain": [
       "   user_id  item_id  prediction\n",
       "0        1      737    7.598266\n",
       "1        1      663    7.248270\n",
       "2        1      102    7.237531\n",
       "3        1      745    7.148354\n",
       "4        1     1125    7.065181"
      ]
     },
     "execution_count": 15,
     "metadata": {},
     "output_type": "execute_result"
    }
   ],
   "source": [
    "if config.model in ['SASRec', 'RNN']:\n",
    "    predict_dataset = CausalLMPredictionDataset(train, max_length=config.dataset.max_length)\n",
    "elif config.model  == 'BERT4Rec':\n",
    "    predict_dataset = MaskedLMPredictionDataset(train, max_length=config.dataset.max_length)\n",
    "\n",
    "predict_loader = DataLoader(\n",
    "        predict_dataset, shuffle=False,\n",
    "        collate_fn=PaddingCollateFn(),\n",
    "        batch_size=config.dataloader.test_batch_size,\n",
    "        num_workers=config.dataloader.num_workers)\n",
    "\n",
    "seqrec_module.predict_top_k = max(config.top_k_metrics)\n",
    "preds = trainer.predict(model=seqrec_module, dataloaders=predict_loader)\n",
    "\n",
    "recs = preds2recs(preds)\n",
    "print(recs.shape)\n",
    "recs.head()"
   ]
  },
  {
   "cell_type": "code",
   "execution_count": 16,
   "metadata": {},
   "outputs": [
    {
     "name": "stdout",
     "output_type": "stream",
     "text": [
      "k =  10\n",
      "{'ndcg@10': 0.18906012825101937, 'hit_rate@10': 0.33228476821192054, 'mrr@10': 0.14530563439503838}\n",
      "k =  100\n",
      "{'ndcg@100': 0.2657238370955717, 'hit_rate@100': 0.7066225165562914, 'mrr@100': 0.15960866987332128}\n"
     ]
    }
   ],
   "source": [
    "for k in config.top_k_metrics:\n",
    "    metrics_val = compute_metrics(validation, recs, k=k)\n",
    "    print('k = ', k)\n",
    "    print(metrics_val)"
   ]
  },
  {
   "cell_type": "markdown",
   "metadata": {},
   "source": [
    "## Test metrics"
   ]
  },
  {
   "cell_type": "code",
   "execution_count": 17,
   "metadata": {},
   "outputs": [
    {
     "name": "stderr",
     "output_type": "stream",
     "text": [
      "LOCAL_RANK: 0 - CUDA_VISIBLE_DEVICES: [1]\n"
     ]
    },
    {
     "data": {
      "application/vnd.jupyter.widget-view+json": {
       "model_id": "e77ef7bd1e68434c84610c0553532638",
       "version_major": 2,
       "version_minor": 0
      },
      "text/plain": [
       "Predicting: 48it [00:00, ?it/s]"
      ]
     },
     "metadata": {},
     "output_type": "display_data"
    },
    {
     "name": "stdout",
     "output_type": "stream",
     "text": [
      "(604000, 3)\n"
     ]
    },
    {
     "data": {
      "text/html": [
       "<div>\n",
       "<style scoped>\n",
       "    .dataframe tbody tr th:only-of-type {\n",
       "        vertical-align: middle;\n",
       "    }\n",
       "\n",
       "    .dataframe tbody tr th {\n",
       "        vertical-align: top;\n",
       "    }\n",
       "\n",
       "    .dataframe thead th {\n",
       "        text-align: right;\n",
       "    }\n",
       "</style>\n",
       "<table border=\"1\" class=\"dataframe\">\n",
       "  <thead>\n",
       "    <tr style=\"text-align: right;\">\n",
       "      <th></th>\n",
       "      <th>user_id</th>\n",
       "      <th>item_id</th>\n",
       "      <th>prediction</th>\n",
       "    </tr>\n",
       "  </thead>\n",
       "  <tbody>\n",
       "    <tr>\n",
       "      <th>0</th>\n",
       "      <td>1</td>\n",
       "      <td>872</td>\n",
       "      <td>6.629054</td>\n",
       "    </tr>\n",
       "    <tr>\n",
       "      <th>1</th>\n",
       "      <td>1</td>\n",
       "      <td>667</td>\n",
       "      <td>6.363072</td>\n",
       "    </tr>\n",
       "    <tr>\n",
       "      <th>2</th>\n",
       "      <td>1</td>\n",
       "      <td>745</td>\n",
       "      <td>6.264328</td>\n",
       "    </tr>\n",
       "    <tr>\n",
       "      <th>3</th>\n",
       "      <td>1</td>\n",
       "      <td>679</td>\n",
       "      <td>6.156502</td>\n",
       "    </tr>\n",
       "    <tr>\n",
       "      <th>4</th>\n",
       "      <td>1</td>\n",
       "      <td>737</td>\n",
       "      <td>6.107877</td>\n",
       "    </tr>\n",
       "  </tbody>\n",
       "</table>\n",
       "</div>"
      ],
      "text/plain": [
       "   user_id  item_id  prediction\n",
       "0        1      872    6.629054\n",
       "1        1      667    6.363072\n",
       "2        1      745    6.264328\n",
       "3        1      679    6.156502\n",
       "4        1      737    6.107877"
      ]
     },
     "execution_count": 17,
     "metadata": {},
     "output_type": "execute_result"
    }
   ],
   "source": [
    "if config.model in ['SASRec', 'RNN']:\n",
    "    test_predict_dataset = CausalLMPredictionDataset(validation_full, max_length=config.dataset.max_length)\n",
    "elif config.model  == 'BERT4Rec':\n",
    "    test_predict_dataset = MaskedLMPredictionDataset(validation_full, max_length=config.dataset.max_length)\n",
    "    \n",
    "test_predict_loader = DataLoader(\n",
    "        test_predict_dataset, shuffle=False,\n",
    "        collate_fn=PaddingCollateFn(),\n",
    "        batch_size=config.dataloader.test_batch_size,\n",
    "        num_workers=config.dataloader.num_workers)\n",
    "\n",
    "seqrec_module.predict_top_k = max(config.top_k_metrics)\n",
    "preds_test = trainer.predict(model=seqrec_module, dataloaders=test_predict_loader)\n",
    "\n",
    "recs_test = preds2recs(preds_test)\n",
    "print(recs_test.shape)\n",
    "recs_test.head()"
   ]
  },
  {
   "cell_type": "code",
   "execution_count": 18,
   "metadata": {},
   "outputs": [
    {
     "name": "stdout",
     "output_type": "stream",
     "text": [
      "k =  10\n",
      "{'ndcg@10': 0.18250363127629773, 'hit_rate@10': 0.31473509933774835, 'mrr@10': 0.14229160096709764}\n",
      "k =  100\n",
      "{'ndcg@100': 0.25577861370312055, 'hit_rate@100': 0.6736754966887417, 'mrr@100': 0.15588159170341734}\n"
     ]
    }
   ],
   "source": [
    "for k in config.top_k_metrics:\n",
    "    metrics_test = compute_metrics(test, recs_test, k=k)\n",
    "    print('k = ', k)\n",
    "    print(metrics_test)"
   ]
  },
  {
   "cell_type": "code",
   "execution_count": null,
   "metadata": {},
   "outputs": [],
   "source": []
  }
 ],
 "metadata": {
  "kernelspec": {
   "display_name": "Python 3 (ipykernel)",
   "language": "python",
   "name": "python3"
  },
  "language_info": {
   "codemirror_mode": {
    "name": "ipython",
    "version": 3
   },
   "file_extension": ".py",
   "mimetype": "text/x-python",
   "name": "python",
   "nbconvert_exporter": "python",
   "pygments_lexer": "ipython3",
   "version": "3.12.9"
  }
 },
 "nbformat": 4,
 "nbformat_minor": 4
}
